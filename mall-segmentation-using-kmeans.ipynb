{
 "cells": [
  {
   "cell_type": "markdown",
   "id": "c95013e9",
   "metadata": {
    "id": "lexR_geMLbzl",
    "papermill": {
     "duration": 0.011601,
     "end_time": "2022-08-13T17:54:59.392011",
     "exception": false,
     "start_time": "2022-08-13T17:54:59.380410",
     "status": "completed"
    },
    "tags": []
   },
   "source": [
    "## **About Dataset.**\n",
    "\n",
    "This is a dataset that I stumbled across on Kaggle and thought would be a good fit for this project.\n",
    "\n",
    "**Link:** [Customer Segmentation Data.](https://www.kaggle.com/datasets/vjchoudhary7/customer-segmentation-tutorial-in-python?datasetId=42674&sortBy=dateRun&searchQuery=pca)\n",
    "\n",
    "### **Problem Statement**\n",
    "You own the mall and want to understand the customers like who can be easily converge [Target Customers] so that the sense can be given to marketing team and plan the strategy accordingly."
   ]
  },
  {
   "cell_type": "code",
   "execution_count": 1,
   "id": "51a5342e",
   "metadata": {
    "execution": {
     "iopub.execute_input": "2022-08-13T17:54:59.413973Z",
     "iopub.status.busy": "2022-08-13T17:54:59.413436Z",
     "iopub.status.idle": "2022-08-13T17:55:00.528077Z",
     "shell.execute_reply": "2022-08-13T17:55:00.526784Z"
    },
    "id": "HePeE054Q8tG",
    "papermill": {
     "duration": 1.129613,
     "end_time": "2022-08-13T17:55:00.531699",
     "exception": false,
     "start_time": "2022-08-13T17:54:59.402086",
     "status": "completed"
    },
    "tags": []
   },
   "outputs": [],
   "source": [
    "import pandas as pd\n",
    "import numpy as np\n",
    "import matplotlib.pyplot as plt\n",
    "import seaborn as sns"
   ]
  },
  {
   "cell_type": "code",
   "execution_count": 2,
   "id": "48f60eb7",
   "metadata": {
    "execution": {
     "iopub.execute_input": "2022-08-13T17:55:00.554955Z",
     "iopub.status.busy": "2022-08-13T17:55:00.554517Z",
     "iopub.status.idle": "2022-08-13T17:55:00.587830Z",
     "shell.execute_reply": "2022-08-13T17:55:00.586654Z"
    },
    "id": "j2AcbkhtScsT",
    "outputId": "155722a3-83de-4757-d780-52f0107b9066",
    "papermill": {
     "duration": 0.048616,
     "end_time": "2022-08-13T17:55:00.591068",
     "exception": false,
     "start_time": "2022-08-13T17:55:00.542452",
     "status": "completed"
    },
    "tags": []
   },
   "outputs": [
    {
     "data": {
      "text/html": [
       "<div>\n",
       "<style scoped>\n",
       "    .dataframe tbody tr th:only-of-type {\n",
       "        vertical-align: middle;\n",
       "    }\n",
       "\n",
       "    .dataframe tbody tr th {\n",
       "        vertical-align: top;\n",
       "    }\n",
       "\n",
       "    .dataframe thead th {\n",
       "        text-align: right;\n",
       "    }\n",
       "</style>\n",
       "<table border=\"1\" class=\"dataframe\">\n",
       "  <thead>\n",
       "    <tr style=\"text-align: right;\">\n",
       "      <th></th>\n",
       "      <th>CustomerID</th>\n",
       "      <th>Gender</th>\n",
       "      <th>Age</th>\n",
       "      <th>Annual Income (k$)</th>\n",
       "      <th>Spending Score (1-100)</th>\n",
       "    </tr>\n",
       "  </thead>\n",
       "  <tbody>\n",
       "    <tr>\n",
       "      <th>0</th>\n",
       "      <td>1</td>\n",
       "      <td>Male</td>\n",
       "      <td>19</td>\n",
       "      <td>15</td>\n",
       "      <td>39</td>\n",
       "    </tr>\n",
       "    <tr>\n",
       "      <th>1</th>\n",
       "      <td>2</td>\n",
       "      <td>Male</td>\n",
       "      <td>21</td>\n",
       "      <td>15</td>\n",
       "      <td>81</td>\n",
       "    </tr>\n",
       "    <tr>\n",
       "      <th>2</th>\n",
       "      <td>3</td>\n",
       "      <td>Female</td>\n",
       "      <td>20</td>\n",
       "      <td>16</td>\n",
       "      <td>6</td>\n",
       "    </tr>\n",
       "    <tr>\n",
       "      <th>3</th>\n",
       "      <td>4</td>\n",
       "      <td>Female</td>\n",
       "      <td>23</td>\n",
       "      <td>16</td>\n",
       "      <td>77</td>\n",
       "    </tr>\n",
       "    <tr>\n",
       "      <th>4</th>\n",
       "      <td>5</td>\n",
       "      <td>Female</td>\n",
       "      <td>31</td>\n",
       "      <td>17</td>\n",
       "      <td>40</td>\n",
       "    </tr>\n",
       "  </tbody>\n",
       "</table>\n",
       "</div>"
      ],
      "text/plain": [
       "   CustomerID  Gender  Age  Annual Income (k$)  Spending Score (1-100)\n",
       "0           1    Male   19                  15                      39\n",
       "1           2    Male   21                  15                      81\n",
       "2           3  Female   20                  16                       6\n",
       "3           4  Female   23                  16                      77\n",
       "4           5  Female   31                  17                      40"
      ]
     },
     "execution_count": 2,
     "metadata": {},
     "output_type": "execute_result"
    }
   ],
   "source": [
    "dataset = pd.read_csv(\"../input/customer-segmentation-tutorial-in-python/Mall_Customers.csv\")\n",
    "dataset.head(5)"
   ]
  },
  {
   "cell_type": "code",
   "execution_count": 3,
   "id": "416a07a1",
   "metadata": {
    "execution": {
     "iopub.execute_input": "2022-08-13T17:55:00.615973Z",
     "iopub.status.busy": "2022-08-13T17:55:00.614878Z",
     "iopub.status.idle": "2022-08-13T17:55:00.645285Z",
     "shell.execute_reply": "2022-08-13T17:55:00.642968Z"
    },
    "id": "wL1KO6dwS0nd",
    "outputId": "ec94fa7f-c5dc-4d44-a9d5-5d31abbec82a",
    "papermill": {
     "duration": 0.045704,
     "end_time": "2022-08-13T17:55:00.648300",
     "exception": false,
     "start_time": "2022-08-13T17:55:00.602596",
     "status": "completed"
    },
    "tags": []
   },
   "outputs": [
    {
     "name": "stdout",
     "output_type": "stream",
     "text": [
      "<class 'pandas.core.frame.DataFrame'>\n",
      "RangeIndex: 200 entries, 0 to 199\n",
      "Data columns (total 5 columns):\n",
      " #   Column                  Non-Null Count  Dtype \n",
      "---  ------                  --------------  ----- \n",
      " 0   CustomerID              200 non-null    int64 \n",
      " 1   Gender                  200 non-null    object\n",
      " 2   Age                     200 non-null    int64 \n",
      " 3   Annual Income (k$)      200 non-null    int64 \n",
      " 4   Spending Score (1-100)  200 non-null    int64 \n",
      "dtypes: int64(4), object(1)\n",
      "memory usage: 7.9+ KB\n"
     ]
    },
    {
     "data": {
      "text/plain": [
       "(200, 5)"
      ]
     },
     "execution_count": 3,
     "metadata": {},
     "output_type": "execute_result"
    }
   ],
   "source": [
    "dataset.info()\n",
    "dataset.shape"
   ]
  },
  {
   "cell_type": "code",
   "execution_count": 4,
   "id": "dfe05091",
   "metadata": {
    "execution": {
     "iopub.execute_input": "2022-08-13T17:55:00.672522Z",
     "iopub.status.busy": "2022-08-13T17:55:00.672106Z",
     "iopub.status.idle": "2022-08-13T17:55:00.699104Z",
     "shell.execute_reply": "2022-08-13T17:55:00.698151Z"
    },
    "id": "44itCmdUTQ7b",
    "outputId": "e4fecc74-3025-4920-9c68-f20e3028d210",
    "papermill": {
     "duration": 0.041547,
     "end_time": "2022-08-13T17:55:00.701722",
     "exception": false,
     "start_time": "2022-08-13T17:55:00.660175",
     "status": "completed"
    },
    "tags": []
   },
   "outputs": [
    {
     "data": {
      "text/html": [
       "<div>\n",
       "<style scoped>\n",
       "    .dataframe tbody tr th:only-of-type {\n",
       "        vertical-align: middle;\n",
       "    }\n",
       "\n",
       "    .dataframe tbody tr th {\n",
       "        vertical-align: top;\n",
       "    }\n",
       "\n",
       "    .dataframe thead th {\n",
       "        text-align: right;\n",
       "    }\n",
       "</style>\n",
       "<table border=\"1\" class=\"dataframe\">\n",
       "  <thead>\n",
       "    <tr style=\"text-align: right;\">\n",
       "      <th></th>\n",
       "      <th>CustomerID</th>\n",
       "      <th>Age</th>\n",
       "      <th>Annual Income (k$)</th>\n",
       "      <th>Spending Score (1-100)</th>\n",
       "    </tr>\n",
       "  </thead>\n",
       "  <tbody>\n",
       "    <tr>\n",
       "      <th>count</th>\n",
       "      <td>200.000000</td>\n",
       "      <td>200.000000</td>\n",
       "      <td>200.000000</td>\n",
       "      <td>200.000000</td>\n",
       "    </tr>\n",
       "    <tr>\n",
       "      <th>mean</th>\n",
       "      <td>100.500000</td>\n",
       "      <td>38.850000</td>\n",
       "      <td>60.560000</td>\n",
       "      <td>50.200000</td>\n",
       "    </tr>\n",
       "    <tr>\n",
       "      <th>std</th>\n",
       "      <td>57.879185</td>\n",
       "      <td>13.969007</td>\n",
       "      <td>26.264721</td>\n",
       "      <td>25.823522</td>\n",
       "    </tr>\n",
       "    <tr>\n",
       "      <th>min</th>\n",
       "      <td>1.000000</td>\n",
       "      <td>18.000000</td>\n",
       "      <td>15.000000</td>\n",
       "      <td>1.000000</td>\n",
       "    </tr>\n",
       "    <tr>\n",
       "      <th>25%</th>\n",
       "      <td>50.750000</td>\n",
       "      <td>28.750000</td>\n",
       "      <td>41.500000</td>\n",
       "      <td>34.750000</td>\n",
       "    </tr>\n",
       "    <tr>\n",
       "      <th>50%</th>\n",
       "      <td>100.500000</td>\n",
       "      <td>36.000000</td>\n",
       "      <td>61.500000</td>\n",
       "      <td>50.000000</td>\n",
       "    </tr>\n",
       "    <tr>\n",
       "      <th>75%</th>\n",
       "      <td>150.250000</td>\n",
       "      <td>49.000000</td>\n",
       "      <td>78.000000</td>\n",
       "      <td>73.000000</td>\n",
       "    </tr>\n",
       "    <tr>\n",
       "      <th>max</th>\n",
       "      <td>200.000000</td>\n",
       "      <td>70.000000</td>\n",
       "      <td>137.000000</td>\n",
       "      <td>99.000000</td>\n",
       "    </tr>\n",
       "  </tbody>\n",
       "</table>\n",
       "</div>"
      ],
      "text/plain": [
       "       CustomerID         Age  Annual Income (k$)  Spending Score (1-100)\n",
       "count  200.000000  200.000000          200.000000              200.000000\n",
       "mean   100.500000   38.850000           60.560000               50.200000\n",
       "std     57.879185   13.969007           26.264721               25.823522\n",
       "min      1.000000   18.000000           15.000000                1.000000\n",
       "25%     50.750000   28.750000           41.500000               34.750000\n",
       "50%    100.500000   36.000000           61.500000               50.000000\n",
       "75%    150.250000   49.000000           78.000000               73.000000\n",
       "max    200.000000   70.000000          137.000000               99.000000"
      ]
     },
     "execution_count": 4,
     "metadata": {},
     "output_type": "execute_result"
    }
   ],
   "source": [
    "dataset.describe()"
   ]
  },
  {
   "cell_type": "code",
   "execution_count": 5,
   "id": "f3263a58",
   "metadata": {
    "execution": {
     "iopub.execute_input": "2022-08-13T17:55:00.725463Z",
     "iopub.status.busy": "2022-08-13T17:55:00.724786Z",
     "iopub.status.idle": "2022-08-13T17:55:01.224684Z",
     "shell.execute_reply": "2022-08-13T17:55:01.223090Z"
    },
    "id": "am21RKYgVmHE",
    "outputId": "2450acc7-2fde-470e-d9d4-aae2f352e5fa",
    "papermill": {
     "duration": 0.515854,
     "end_time": "2022-08-13T17:55:01.228522",
     "exception": false,
     "start_time": "2022-08-13T17:55:00.712668",
     "status": "completed"
    },
    "tags": []
   },
   "outputs": [
    {
     "data": {
      "text/plain": [
       "<AxesSubplot:>"
      ]
     },
     "execution_count": 5,
     "metadata": {},
     "output_type": "execute_result"
    },
    {
     "data": {
      "image/png": "[encoded data removed]",
      "text/plain": [
       "<Figure size 1440x1440 with 1 Axes>"
      ]
     },
     "metadata": {
      "needs_background": "light"
     },
     "output_type": "display_data"
    }
   ],
   "source": [
    "plt.figure(figsize = (20, 20))\n",
    "sns.scatterplot(data= dataset, palette= \"inferno\")"
   ]
  },
  {
   "cell_type": "code",
   "execution_count": 6,
   "id": "088470dd",
   "metadata": {
    "execution": {
     "iopub.execute_input": "2022-08-13T17:55:01.256227Z",
     "iopub.status.busy": "2022-08-13T17:55:01.255424Z",
     "iopub.status.idle": "2022-08-13T17:55:01.468800Z",
     "shell.execute_reply": "2022-08-13T17:55:01.467303Z"
    },
    "id": "2Neh2hRmhD5o",
    "outputId": "e79bce5d-c114-40dd-a241-b2aa7d717391",
    "papermill": {
     "duration": 0.231307,
     "end_time": "2022-08-13T17:55:01.472186",
     "exception": false,
     "start_time": "2022-08-13T17:55:01.240879",
     "status": "completed"
    },
    "tags": []
   },
   "outputs": [
    {
     "data": {
      "text/plain": [
       "<AxesSubplot:xlabel='Age', ylabel='Spending Score (1-100)'>"
      ]
     },
     "execution_count": 6,
     "metadata": {},
     "output_type": "execute_result"
    },
    {
     "data": {
      "image/png": "[encoded data removed]",
      "text/plain": [
       "<Figure size 432x288 with 1 Axes>"
      ]
     },
     "metadata": {
      "needs_background": "light"
     },
     "output_type": "display_data"
    }
   ],
   "source": [
    "sns.scatterplot(data= dataset, x= \"Age\", y= \"Spending Score (1-100)\", hue= \"Gender\")"
   ]
  },
  {
   "cell_type": "code",
   "execution_count": 7,
   "id": "697c2090",
   "metadata": {
    "execution": {
     "iopub.execute_input": "2022-08-13T17:55:01.501767Z",
     "iopub.status.busy": "2022-08-13T17:55:01.500573Z",
     "iopub.status.idle": "2022-08-13T17:55:01.508690Z",
     "shell.execute_reply": "2022-08-13T17:55:01.507164Z"
    },
    "id": "22dpGEsWuvOw",
    "papermill": {
     "duration": 0.026077,
     "end_time": "2022-08-13T17:55:01.511523",
     "exception": false,
     "start_time": "2022-08-13T17:55:01.485446",
     "status": "completed"
    },
    "tags": []
   },
   "outputs": [],
   "source": [
    "#renaming the columns for ease.\n",
    "dataset = dataset.rename(columns= {\"Spending Score (1-100)\": \"SpendScore\"})\n",
    "dataset = dataset.rename(columns= {\"Annual Income (k$)\": \"Income\"})"
   ]
  },
  {
   "cell_type": "code",
   "execution_count": 8,
   "id": "1ea71ead",
   "metadata": {
    "execution": {
     "iopub.execute_input": "2022-08-13T17:55:01.542638Z",
     "iopub.status.busy": "2022-08-13T17:55:01.541825Z",
     "iopub.status.idle": "2022-08-13T17:55:01.701066Z",
     "shell.execute_reply": "2022-08-13T17:55:01.699751Z"
    },
    "id": "UASAgsDsvETn",
    "outputId": "32125340-df73-4403-cec3-39e2e35338d3",
    "papermill": {
     "duration": 0.177153,
     "end_time": "2022-08-13T17:55:01.703807",
     "exception": false,
     "start_time": "2022-08-13T17:55:01.526654",
     "status": "completed"
    },
    "tags": []
   },
   "outputs": [
    {
     "data": {
      "text/html": [
       "<div>\n",
       "<style scoped>\n",
       "    .dataframe tbody tr th:only-of-type {\n",
       "        vertical-align: middle;\n",
       "    }\n",
       "\n",
       "    .dataframe tbody tr th {\n",
       "        vertical-align: top;\n",
       "    }\n",
       "\n",
       "    .dataframe thead th {\n",
       "        text-align: right;\n",
       "    }\n",
       "</style>\n",
       "<table border=\"1\" class=\"dataframe\">\n",
       "  <thead>\n",
       "    <tr style=\"text-align: right;\">\n",
       "      <th></th>\n",
       "      <th>CustomerID</th>\n",
       "      <th>Gender</th>\n",
       "      <th>Age</th>\n",
       "      <th>Income</th>\n",
       "      <th>SpendScore</th>\n",
       "    </tr>\n",
       "  </thead>\n",
       "  <tbody>\n",
       "    <tr>\n",
       "      <th>0</th>\n",
       "      <td>1</td>\n",
       "      <td>1</td>\n",
       "      <td>19</td>\n",
       "      <td>15</td>\n",
       "      <td>39</td>\n",
       "    </tr>\n",
       "    <tr>\n",
       "      <th>1</th>\n",
       "      <td>2</td>\n",
       "      <td>1</td>\n",
       "      <td>21</td>\n",
       "      <td>15</td>\n",
       "      <td>81</td>\n",
       "    </tr>\n",
       "    <tr>\n",
       "      <th>2</th>\n",
       "      <td>3</td>\n",
       "      <td>0</td>\n",
       "      <td>20</td>\n",
       "      <td>16</td>\n",
       "      <td>6</td>\n",
       "    </tr>\n",
       "    <tr>\n",
       "      <th>3</th>\n",
       "      <td>4</td>\n",
       "      <td>0</td>\n",
       "      <td>23</td>\n",
       "      <td>16</td>\n",
       "      <td>77</td>\n",
       "    </tr>\n",
       "    <tr>\n",
       "      <th>4</th>\n",
       "      <td>5</td>\n",
       "      <td>0</td>\n",
       "      <td>31</td>\n",
       "      <td>17</td>\n",
       "      <td>40</td>\n",
       "    </tr>\n",
       "    <tr>\n",
       "      <th>...</th>\n",
       "      <td>...</td>\n",
       "      <td>...</td>\n",
       "      <td>...</td>\n",
       "      <td>...</td>\n",
       "      <td>...</td>\n",
       "    </tr>\n",
       "    <tr>\n",
       "      <th>195</th>\n",
       "      <td>196</td>\n",
       "      <td>0</td>\n",
       "      <td>35</td>\n",
       "      <td>120</td>\n",
       "      <td>79</td>\n",
       "    </tr>\n",
       "    <tr>\n",
       "      <th>196</th>\n",
       "      <td>197</td>\n",
       "      <td>0</td>\n",
       "      <td>45</td>\n",
       "      <td>126</td>\n",
       "      <td>28</td>\n",
       "    </tr>\n",
       "    <tr>\n",
       "      <th>197</th>\n",
       "      <td>198</td>\n",
       "      <td>1</td>\n",
       "      <td>32</td>\n",
       "      <td>126</td>\n",
       "      <td>74</td>\n",
       "    </tr>\n",
       "    <tr>\n",
       "      <th>198</th>\n",
       "      <td>199</td>\n",
       "      <td>1</td>\n",
       "      <td>32</td>\n",
       "      <td>137</td>\n",
       "      <td>18</td>\n",
       "    </tr>\n",
       "    <tr>\n",
       "      <th>199</th>\n",
       "      <td>200</td>\n",
       "      <td>1</td>\n",
       "      <td>30</td>\n",
       "      <td>137</td>\n",
       "      <td>83</td>\n",
       "    </tr>\n",
       "  </tbody>\n",
       "</table>\n",
       "<p>200 rows × 5 columns</p>\n",
       "</div>"
      ],
      "text/plain": [
       "     CustomerID  Gender  Age  Income  SpendScore\n",
       "0             1       1   19      15          39\n",
       "1             2       1   21      15          81\n",
       "2             3       0   20      16           6\n",
       "3             4       0   23      16          77\n",
       "4             5       0   31      17          40\n",
       "..          ...     ...  ...     ...         ...\n",
       "195         196       0   35     120          79\n",
       "196         197       0   45     126          28\n",
       "197         198       1   32     126          74\n",
       "198         199       1   32     137          18\n",
       "199         200       1   30     137          83\n",
       "\n",
       "[200 rows x 5 columns]"
      ]
     },
     "execution_count": 8,
     "metadata": {},
     "output_type": "execute_result"
    }
   ],
   "source": [
    "#encode the categorical variables.\n",
    "from sklearn.preprocessing import LabelEncoder\n",
    "encoder = LabelEncoder()\n",
    "dataset[\"Gender\"] = encoder.fit_transform(dataset[\"Gender\"].values)\n",
    "dataset"
   ]
  },
  {
   "cell_type": "code",
   "execution_count": 9,
   "id": "3313ea6f",
   "metadata": {
    "execution": {
     "iopub.execute_input": "2022-08-13T17:55:01.735616Z",
     "iopub.status.busy": "2022-08-13T17:55:01.734564Z",
     "iopub.status.idle": "2022-08-13T17:55:01.743341Z",
     "shell.execute_reply": "2022-08-13T17:55:01.742326Z"
    },
    "id": "PsbqOtghwwa1",
    "outputId": "bad7c59a-af21-4ddb-e47f-5319e6612ce3",
    "papermill": {
     "duration": 0.027568,
     "end_time": "2022-08-13T17:55:01.745733",
     "exception": false,
     "start_time": "2022-08-13T17:55:01.718165",
     "status": "completed"
    },
    "tags": []
   },
   "outputs": [
    {
     "data": {
      "text/plain": [
       "CustomerID    int64\n",
       "Gender        int64\n",
       "Age           int64\n",
       "Income        int64\n",
       "SpendScore    int64\n",
       "dtype: object"
      ]
     },
     "execution_count": 9,
     "metadata": {},
     "output_type": "execute_result"
    }
   ],
   "source": [
    "dataset.dtypes"
   ]
  },
  {
   "cell_type": "markdown",
   "id": "b2cd2631",
   "metadata": {
    "id": "NM1NFfOLw12y",
    "papermill": {
     "duration": 0.01394,
     "end_time": "2022-08-13T17:55:01.773485",
     "exception": false,
     "start_time": "2022-08-13T17:55:01.759545",
     "status": "completed"
    },
    "tags": []
   },
   "source": [
    "## **Applying Unsupervised Learning.**\n",
    "\n",
    "\n",
    "```\n",
    "First we need to find the right number of clusters.\n",
    "We can do this by calculating the inertia and then plotting it to find the elbow point(the sweet spot!!).\n",
    "```\n",
    "\n"
   ]
  },
  {
   "cell_type": "code",
   "execution_count": 10,
   "id": "c1299805",
   "metadata": {
    "execution": {
     "iopub.execute_input": "2022-08-13T17:55:01.804796Z",
     "iopub.status.busy": "2022-08-13T17:55:01.803511Z",
     "iopub.status.idle": "2022-08-13T17:55:01.809812Z",
     "shell.execute_reply": "2022-08-13T17:55:01.808892Z"
    },
    "id": "LJ0ERf79wz_7",
    "papermill": {
     "duration": 0.024251,
     "end_time": "2022-08-13T17:55:01.812310",
     "exception": false,
     "start_time": "2022-08-13T17:55:01.788059",
     "status": "completed"
    },
    "tags": []
   },
   "outputs": [],
   "source": [
    "X = dataset.iloc[:, 2:]\n",
    "y = dataset.Gender"
   ]
  },
  {
   "cell_type": "code",
   "execution_count": 11,
   "id": "e545e708",
   "metadata": {
    "execution": {
     "iopub.execute_input": "2022-08-13T17:55:01.840968Z",
     "iopub.status.busy": "2022-08-13T17:55:01.840532Z",
     "iopub.status.idle": "2022-08-13T17:55:01.850183Z",
     "shell.execute_reply": "2022-08-13T17:55:01.849230Z"
    },
    "id": "6VcrEX6Ny_40",
    "papermill": {
     "duration": 0.026967,
     "end_time": "2022-08-13T17:55:01.852770",
     "exception": false,
     "start_time": "2022-08-13T17:55:01.825803",
     "status": "completed"
    },
    "tags": []
   },
   "outputs": [],
   "source": [
    "from sklearn.preprocessing import StandardScaler\n",
    "sc = StandardScaler()\n",
    "X = sc.fit_transform(X)"
   ]
  },
  {
   "cell_type": "code",
   "execution_count": 12,
   "id": "c126a02c",
   "metadata": {
    "execution": {
     "iopub.execute_input": "2022-08-13T17:55:01.886884Z",
     "iopub.status.busy": "2022-08-13T17:55:01.886496Z",
     "iopub.status.idle": "2022-08-13T17:55:02.842264Z",
     "shell.execute_reply": "2022-08-13T17:55:02.840919Z"
    },
    "id": "c6zRzSSXyee_",
    "papermill": {
     "duration": 0.978869,
     "end_time": "2022-08-13T17:55:02.845189",
     "exception": false,
     "start_time": "2022-08-13T17:55:01.866320",
     "status": "completed"
    },
    "tags": []
   },
   "outputs": [],
   "source": [
    "from sklearn.cluster import KMeans\n",
    "\n",
    "inertia_list = list()\n",
    "\n",
    "for i in range(1, 15):\n",
    "  km = KMeans(n_clusters= i)\n",
    "  km.fit(X)\n",
    "  inertia_list.append(km.inertia_)\n"
   ]
  },
  {
   "cell_type": "code",
   "execution_count": 13,
   "id": "2cc499fc",
   "metadata": {
    "execution": {
     "iopub.execute_input": "2022-08-13T17:55:02.876547Z",
     "iopub.status.busy": "2022-08-13T17:55:02.876086Z",
     "iopub.status.idle": "2022-08-13T17:55:02.884031Z",
     "shell.execute_reply": "2022-08-13T17:55:02.883012Z"
    },
    "id": "tmgn42Rjy3Jk",
    "outputId": "844a8a14-0907-42df-b4ef-608fcec1ef21",
    "papermill": {
     "duration": 0.025148,
     "end_time": "2022-08-13T17:55:02.886099",
     "exception": false,
     "start_time": "2022-08-13T17:55:02.860951",
     "status": "completed"
    },
    "tags": []
   },
   "outputs": [
    {
     "data": {
      "text/plain": [
       "[599.9999999999999,\n",
       " 389.3861889564372,\n",
       " 295.96829569683854,\n",
       " 205.22514747675913,\n",
       " 168.24758017556834,\n",
       " 133.88887021131026,\n",
       " 117.13060763524545,\n",
       " 105.20671340659281,\n",
       " 92.14211164375412,\n",
       " 81.76531800255599,\n",
       " 72.03271246999172,\n",
       " 67.37529410432245,\n",
       " 63.77588621198967,\n",
       " 59.14458209378567]"
      ]
     },
     "execution_count": 13,
     "metadata": {},
     "output_type": "execute_result"
    }
   ],
   "source": [
    "inertia_list"
   ]
  },
  {
   "cell_type": "code",
   "execution_count": 14,
   "id": "38356d78",
   "metadata": {
    "execution": {
     "iopub.execute_input": "2022-08-13T17:55:02.916579Z",
     "iopub.status.busy": "2022-08-13T17:55:02.915374Z",
     "iopub.status.idle": "2022-08-13T17:55:03.149614Z",
     "shell.execute_reply": "2022-08-13T17:55:03.148444Z"
    },
    "id": "8mYW3LNuy5Y-",
    "outputId": "491032f3-1319-459f-e076-d0403b1842fd",
    "papermill": {
     "duration": 0.2521,
     "end_time": "2022-08-13T17:55:03.152344",
     "exception": false,
     "start_time": "2022-08-13T17:55:02.900244",
     "status": "completed"
    },
    "tags": []
   },
   "outputs": [
    {
     "data": {
      "text/plain": [
       "[Text(0.5, 1.0, 'Finding the correct n_clusters')]"
      ]
     },
     "execution_count": 14,
     "metadata": {},
     "output_type": "execute_result"
    },
    {
     "data": {
      "image/png": "[encoded data removed]",
      "text/plain": [
       "<Figure size 432x288 with 1 Axes>"
      ]
     },
     "metadata": {
      "needs_background": "light"
     },
     "output_type": "display_data"
    }
   ],
   "source": [
    "sns.lineplot(data= inertia_list).set(title= \"Finding the correct n_clusters\")"
   ]
  },
  {
   "cell_type": "markdown",
   "id": "1ddcb305",
   "metadata": {
    "id": "rqwZjcu5zjjA",
    "papermill": {
     "duration": 0.014087,
     "end_time": "2022-08-13T17:55:03.180374",
     "exception": false,
     "start_time": "2022-08-13T17:55:03.166287",
     "status": "completed"
    },
    "tags": []
   },
   "source": [
    "*From the graph it is clearly evident that the elbow point exist at n = 5.*"
   ]
  },
  {
   "cell_type": "code",
   "execution_count": 15,
   "id": "26df7de6",
   "metadata": {
    "execution": {
     "iopub.execute_input": "2022-08-13T17:55:03.213161Z",
     "iopub.status.busy": "2022-08-13T17:55:03.212120Z",
     "iopub.status.idle": "2022-08-13T17:55:03.262058Z",
     "shell.execute_reply": "2022-08-13T17:55:03.258611Z"
    },
    "id": "uAcLH1WSzisH",
    "outputId": "6c4b409f-964f-49fc-8e74-3eed1bfb3d62",
    "papermill": {
     "duration": 0.06887,
     "end_time": "2022-08-13T17:55:03.264589",
     "exception": false,
     "start_time": "2022-08-13T17:55:03.195719",
     "status": "completed"
    },
    "tags": []
   },
   "outputs": [
    {
     "data": {
      "text/plain": [
       "KMeans(n_clusters=5, random_state=42)"
      ]
     },
     "execution_count": 15,
     "metadata": {},
     "output_type": "execute_result"
    }
   ],
   "source": [
    "km = KMeans(n_clusters= 5, random_state= 42)\n",
    "km.fit(X)"
   ]
  },
  {
   "cell_type": "code",
   "execution_count": 16,
   "id": "ceda5848",
   "metadata": {
    "execution": {
     "iopub.execute_input": "2022-08-13T17:55:03.296948Z",
     "iopub.status.busy": "2022-08-13T17:55:03.296170Z",
     "iopub.status.idle": "2022-08-13T17:55:03.310650Z",
     "shell.execute_reply": "2022-08-13T17:55:03.309472Z"
    },
    "id": "kY_nDaxA067z",
    "outputId": "edc08913-ecd9-4958-c192-7bc04f637b24",
    "papermill": {
     "duration": 0.033778,
     "end_time": "2022-08-13T17:55:03.313374",
     "exception": false,
     "start_time": "2022-08-13T17:55:03.279596",
     "status": "completed"
    },
    "tags": []
   },
   "outputs": [
    {
     "data": {
      "text/plain": [
       "array([2, 2, 3, 2, 2, 2, 3, 2, 3, 2, 3, 2, 3, 2, 3, 2, 3, 2, 3, 2, 3, 2,\n",
       "       3, 2, 3, 2, 3, 2, 3, 2, 3, 2, 3, 2, 3, 2, 3, 2, 3, 2, 0, 2, 3, 2,\n",
       "       3, 2, 0, 2, 2, 2, 0, 2, 2, 0, 0, 0, 0, 0, 2, 0, 0, 2, 0, 0, 0, 2,\n",
       "       0, 0, 2, 2, 0, 0, 0, 0, 0, 2, 0, 0, 2, 0, 0, 2, 0, 0, 2, 0, 0, 2,\n",
       "       2, 0, 0, 2, 0, 0, 2, 2, 0, 2, 0, 2, 2, 0, 0, 2, 0, 2, 0, 0, 0, 0,\n",
       "       0, 2, 4, 2, 2, 2, 0, 0, 0, 0, 2, 4, 1, 1, 4, 1, 4, 1, 4, 1, 4, 1,\n",
       "       4, 1, 4, 1, 4, 1, 4, 1, 4, 1, 4, 1, 4, 1, 4, 1, 4, 1, 4, 1, 4, 1,\n",
       "       4, 1, 4, 1, 4, 1, 0, 1, 4, 1, 4, 1, 4, 1, 4, 1, 4, 1, 4, 1, 4, 1,\n",
       "       4, 1, 4, 1, 4, 1, 4, 1, 4, 1, 4, 1, 4, 1, 4, 1, 4, 1, 4, 1, 4, 1,\n",
       "       4, 1], dtype=int32)"
      ]
     },
     "execution_count": 16,
     "metadata": {},
     "output_type": "execute_result"
    }
   ],
   "source": [
    "y_pred = km.predict(X)\n",
    "y_pred\n",
    "\n",
    "#here we have predicted the segmentation of our 200 customers."
   ]
  },
  {
   "cell_type": "code",
   "execution_count": 17,
   "id": "9c73bf93",
   "metadata": {
    "execution": {
     "iopub.execute_input": "2022-08-13T17:55:03.346261Z",
     "iopub.status.busy": "2022-08-13T17:55:03.345843Z",
     "iopub.status.idle": "2022-08-13T17:55:03.351277Z",
     "shell.execute_reply": "2022-08-13T17:55:03.350429Z"
    },
    "id": "dVcu6_On1PZ5",
    "papermill": {
     "duration": 0.023523,
     "end_time": "2022-08-13T17:55:03.353417",
     "exception": false,
     "start_time": "2022-08-13T17:55:03.329894",
     "status": "completed"
    },
    "tags": []
   },
   "outputs": [],
   "source": [
    "#saving the orignal dataset.\n",
    "orignal = dataset.copy()"
   ]
  },
  {
   "cell_type": "code",
   "execution_count": 18,
   "id": "831931e4",
   "metadata": {
    "execution": {
     "iopub.execute_input": "2022-08-13T17:55:03.383492Z",
     "iopub.status.busy": "2022-08-13T17:55:03.382754Z",
     "iopub.status.idle": "2022-08-13T17:55:03.388062Z",
     "shell.execute_reply": "2022-08-13T17:55:03.387271Z"
    },
    "id": "wG03FFTv1XAI",
    "papermill": {
     "duration": 0.022746,
     "end_time": "2022-08-13T17:55:03.390262",
     "exception": false,
     "start_time": "2022-08-13T17:55:03.367516",
     "status": "completed"
    },
    "tags": []
   },
   "outputs": [],
   "source": [
    "dataset[\"Segments\"] = y_pred.tolist()"
   ]
  },
  {
   "cell_type": "code",
   "execution_count": 19,
   "id": "4779281f",
   "metadata": {
    "execution": {
     "iopub.execute_input": "2022-08-13T17:55:03.421251Z",
     "iopub.status.busy": "2022-08-13T17:55:03.420505Z",
     "iopub.status.idle": "2022-08-13T17:55:03.435998Z",
     "shell.execute_reply": "2022-08-13T17:55:03.434920Z"
    },
    "id": "8cvvCw-718iX",
    "outputId": "e2f9f070-89a9-4aef-96d5-d3cc3452b753",
    "papermill": {
     "duration": 0.034138,
     "end_time": "2022-08-13T17:55:03.438556",
     "exception": false,
     "start_time": "2022-08-13T17:55:03.404418",
     "status": "completed"
    },
    "tags": []
   },
   "outputs": [
    {
     "data": {
      "text/html": [
       "<div>\n",
       "<style scoped>\n",
       "    .dataframe tbody tr th:only-of-type {\n",
       "        vertical-align: middle;\n",
       "    }\n",
       "\n",
       "    .dataframe tbody tr th {\n",
       "        vertical-align: top;\n",
       "    }\n",
       "\n",
       "    .dataframe thead th {\n",
       "        text-align: right;\n",
       "    }\n",
       "</style>\n",
       "<table border=\"1\" class=\"dataframe\">\n",
       "  <thead>\n",
       "    <tr style=\"text-align: right;\">\n",
       "      <th></th>\n",
       "      <th>CustomerID</th>\n",
       "      <th>Gender</th>\n",
       "      <th>Age</th>\n",
       "      <th>Income</th>\n",
       "      <th>SpendScore</th>\n",
       "      <th>Segments</th>\n",
       "    </tr>\n",
       "  </thead>\n",
       "  <tbody>\n",
       "    <tr>\n",
       "      <th>0</th>\n",
       "      <td>1</td>\n",
       "      <td>1</td>\n",
       "      <td>19</td>\n",
       "      <td>15</td>\n",
       "      <td>39</td>\n",
       "      <td>2</td>\n",
       "    </tr>\n",
       "    <tr>\n",
       "      <th>1</th>\n",
       "      <td>2</td>\n",
       "      <td>1</td>\n",
       "      <td>21</td>\n",
       "      <td>15</td>\n",
       "      <td>81</td>\n",
       "      <td>2</td>\n",
       "    </tr>\n",
       "    <tr>\n",
       "      <th>2</th>\n",
       "      <td>3</td>\n",
       "      <td>0</td>\n",
       "      <td>20</td>\n",
       "      <td>16</td>\n",
       "      <td>6</td>\n",
       "      <td>3</td>\n",
       "    </tr>\n",
       "    <tr>\n",
       "      <th>3</th>\n",
       "      <td>4</td>\n",
       "      <td>0</td>\n",
       "      <td>23</td>\n",
       "      <td>16</td>\n",
       "      <td>77</td>\n",
       "      <td>2</td>\n",
       "    </tr>\n",
       "    <tr>\n",
       "      <th>4</th>\n",
       "      <td>5</td>\n",
       "      <td>0</td>\n",
       "      <td>31</td>\n",
       "      <td>17</td>\n",
       "      <td>40</td>\n",
       "      <td>2</td>\n",
       "    </tr>\n",
       "    <tr>\n",
       "      <th>...</th>\n",
       "      <td>...</td>\n",
       "      <td>...</td>\n",
       "      <td>...</td>\n",
       "      <td>...</td>\n",
       "      <td>...</td>\n",
       "      <td>...</td>\n",
       "    </tr>\n",
       "    <tr>\n",
       "      <th>195</th>\n",
       "      <td>196</td>\n",
       "      <td>0</td>\n",
       "      <td>35</td>\n",
       "      <td>120</td>\n",
       "      <td>79</td>\n",
       "      <td>1</td>\n",
       "    </tr>\n",
       "    <tr>\n",
       "      <th>196</th>\n",
       "      <td>197</td>\n",
       "      <td>0</td>\n",
       "      <td>45</td>\n",
       "      <td>126</td>\n",
       "      <td>28</td>\n",
       "      <td>4</td>\n",
       "    </tr>\n",
       "    <tr>\n",
       "      <th>197</th>\n",
       "      <td>198</td>\n",
       "      <td>1</td>\n",
       "      <td>32</td>\n",
       "      <td>126</td>\n",
       "      <td>74</td>\n",
       "      <td>1</td>\n",
       "    </tr>\n",
       "    <tr>\n",
       "      <th>198</th>\n",
       "      <td>199</td>\n",
       "      <td>1</td>\n",
       "      <td>32</td>\n",
       "      <td>137</td>\n",
       "      <td>18</td>\n",
       "      <td>4</td>\n",
       "    </tr>\n",
       "    <tr>\n",
       "      <th>199</th>\n",
       "      <td>200</td>\n",
       "      <td>1</td>\n",
       "      <td>30</td>\n",
       "      <td>137</td>\n",
       "      <td>83</td>\n",
       "      <td>1</td>\n",
       "    </tr>\n",
       "  </tbody>\n",
       "</table>\n",
       "<p>200 rows × 6 columns</p>\n",
       "</div>"
      ],
      "text/plain": [
       "     CustomerID  Gender  Age  Income  SpendScore  Segments\n",
       "0             1       1   19      15          39         2\n",
       "1             2       1   21      15          81         2\n",
       "2             3       0   20      16           6         3\n",
       "3             4       0   23      16          77         2\n",
       "4             5       0   31      17          40         2\n",
       "..          ...     ...  ...     ...         ...       ...\n",
       "195         196       0   35     120          79         1\n",
       "196         197       0   45     126          28         4\n",
       "197         198       1   32     126          74         1\n",
       "198         199       1   32     137          18         4\n",
       "199         200       1   30     137          83         1\n",
       "\n",
       "[200 rows x 6 columns]"
      ]
     },
     "execution_count": 19,
     "metadata": {},
     "output_type": "execute_result"
    }
   ],
   "source": [
    "dataset"
   ]
  },
  {
   "cell_type": "markdown",
   "id": "66a93e4c",
   "metadata": {
    "id": "5gf8iJ0B3BhP",
    "papermill": {
     "duration": 0.014497,
     "end_time": "2022-08-13T17:55:03.468208",
     "exception": false,
     "start_time": "2022-08-13T17:55:03.453711",
     "status": "completed"
    },
    "tags": []
   },
   "source": [
    "## **Visuallising the Segmentation.**"
   ]
  },
  {
   "cell_type": "code",
   "execution_count": 20,
   "id": "28c7a28e",
   "metadata": {
    "execution": {
     "iopub.execute_input": "2022-08-13T17:55:03.499077Z",
     "iopub.status.busy": "2022-08-13T17:55:03.498380Z",
     "iopub.status.idle": "2022-08-13T17:55:03.877299Z",
     "shell.execute_reply": "2022-08-13T17:55:03.876365Z"
    },
    "id": "JLkcEGoW1-XK",
    "outputId": "eb494cb0-be89-46fd-9c35-539ff2774746",
    "papermill": {
     "duration": 0.397793,
     "end_time": "2022-08-13T17:55:03.880296",
     "exception": false,
     "start_time": "2022-08-13T17:55:03.482503",
     "status": "completed"
    },
    "tags": []
   },
   "outputs": [
    {
     "data": {
      "text/plain": [
       "<AxesSubplot:xlabel='Income', ylabel='SpendScore'>"
      ]
     },
     "execution_count": 20,
     "metadata": {},
     "output_type": "execute_result"
    },
    {
     "data": {
      "image/png": "[encoded data removed]",
      "text/plain": [
       "<Figure size 864x864 with 1 Axes>"
      ]
     },
     "metadata": {
      "needs_background": "light"
     },
     "output_type": "display_data"
    }
   ],
   "source": [
    "plt.figure(figsize= (12, 12))\n",
    "sns.scatterplot(data= dataset, x= \"Income\", y= \"SpendScore\", hue= \"Segments\", palette= \"PuRd\")"
   ]
  },
  {
   "cell_type": "markdown",
   "id": "29d258b2",
   "metadata": {
    "id": "BXbOcXaT3PGR",
    "papermill": {
     "duration": 0.014714,
     "end_time": "2022-08-13T17:55:03.910403",
     "exception": false,
     "start_time": "2022-08-13T17:55:03.895689",
     "status": "completed"
    },
    "tags": []
   },
   "source": [
    "## **Applying Supervised Learning to predict Segmentation.**\n",
    "\n",
    "We can now apply Classficiation algorithms on the modified dataset to train and predict our segmentation. "
   ]
  },
  {
   "cell_type": "code",
   "execution_count": 21,
   "id": "28354365",
   "metadata": {
    "execution": {
     "iopub.execute_input": "2022-08-13T17:55:03.942931Z",
     "iopub.status.busy": "2022-08-13T17:55:03.942064Z",
     "iopub.status.idle": "2022-08-13T17:55:03.952942Z",
     "shell.execute_reply": "2022-08-13T17:55:03.952007Z"
    },
    "id": "J8jqJqrb3GJq",
    "outputId": "b60bcd98-e4db-4453-f13f-ac2dc6c72fb7",
    "papermill": {
     "duration": 0.029798,
     "end_time": "2022-08-13T17:55:03.955402",
     "exception": false,
     "start_time": "2022-08-13T17:55:03.925604",
     "status": "completed"
    },
    "tags": []
   },
   "outputs": [
    {
     "data": {
      "text/html": [
       "<div>\n",
       "<style scoped>\n",
       "    .dataframe tbody tr th:only-of-type {\n",
       "        vertical-align: middle;\n",
       "    }\n",
       "\n",
       "    .dataframe tbody tr th {\n",
       "        vertical-align: top;\n",
       "    }\n",
       "\n",
       "    .dataframe thead th {\n",
       "        text-align: right;\n",
       "    }\n",
       "</style>\n",
       "<table border=\"1\" class=\"dataframe\">\n",
       "  <thead>\n",
       "    <tr style=\"text-align: right;\">\n",
       "      <th></th>\n",
       "      <th>CustomerID</th>\n",
       "      <th>Gender</th>\n",
       "      <th>Age</th>\n",
       "      <th>Income</th>\n",
       "      <th>SpendScore</th>\n",
       "      <th>Segments</th>\n",
       "    </tr>\n",
       "  </thead>\n",
       "  <tbody>\n",
       "    <tr>\n",
       "      <th>0</th>\n",
       "      <td>1</td>\n",
       "      <td>1</td>\n",
       "      <td>19</td>\n",
       "      <td>15</td>\n",
       "      <td>39</td>\n",
       "      <td>2</td>\n",
       "    </tr>\n",
       "    <tr>\n",
       "      <th>1</th>\n",
       "      <td>2</td>\n",
       "      <td>1</td>\n",
       "      <td>21</td>\n",
       "      <td>15</td>\n",
       "      <td>81</td>\n",
       "      <td>2</td>\n",
       "    </tr>\n",
       "    <tr>\n",
       "      <th>2</th>\n",
       "      <td>3</td>\n",
       "      <td>0</td>\n",
       "      <td>20</td>\n",
       "      <td>16</td>\n",
       "      <td>6</td>\n",
       "      <td>3</td>\n",
       "    </tr>\n",
       "    <tr>\n",
       "      <th>3</th>\n",
       "      <td>4</td>\n",
       "      <td>0</td>\n",
       "      <td>23</td>\n",
       "      <td>16</td>\n",
       "      <td>77</td>\n",
       "      <td>2</td>\n",
       "    </tr>\n",
       "    <tr>\n",
       "      <th>4</th>\n",
       "      <td>5</td>\n",
       "      <td>0</td>\n",
       "      <td>31</td>\n",
       "      <td>17</td>\n",
       "      <td>40</td>\n",
       "      <td>2</td>\n",
       "    </tr>\n",
       "  </tbody>\n",
       "</table>\n",
       "</div>"
      ],
      "text/plain": [
       "   CustomerID  Gender  Age  Income  SpendScore  Segments\n",
       "0           1       1   19      15          39         2\n",
       "1           2       1   21      15          81         2\n",
       "2           3       0   20      16           6         3\n",
       "3           4       0   23      16          77         2\n",
       "4           5       0   31      17          40         2"
      ]
     },
     "execution_count": 21,
     "metadata": {},
     "output_type": "execute_result"
    }
   ],
   "source": [
    "dataset.head(5)"
   ]
  },
  {
   "cell_type": "code",
   "execution_count": 22,
   "id": "b33ece87",
   "metadata": {
    "execution": {
     "iopub.execute_input": "2022-08-13T17:55:03.988787Z",
     "iopub.status.busy": "2022-08-13T17:55:03.988167Z",
     "iopub.status.idle": "2022-08-13T17:55:03.996724Z",
     "shell.execute_reply": "2022-08-13T17:55:03.995575Z"
    },
    "id": "vDCfGulI3teY",
    "outputId": "77e80c8c-1b7c-4b6c-eb74-a0ac6251f124",
    "papermill": {
     "duration": 0.027892,
     "end_time": "2022-08-13T17:55:03.999019",
     "exception": false,
     "start_time": "2022-08-13T17:55:03.971127",
     "status": "completed"
    },
    "tags": []
   },
   "outputs": [
    {
     "data": {
      "text/plain": [
       "0      2\n",
       "1      2\n",
       "2      3\n",
       "3      2\n",
       "4      2\n",
       "      ..\n",
       "195    1\n",
       "196    4\n",
       "197    1\n",
       "198    4\n",
       "199    1\n",
       "Name: Segments, Length: 200, dtype: int64"
      ]
     },
     "execution_count": 22,
     "metadata": {},
     "output_type": "execute_result"
    }
   ],
   "source": [
    "X = dataset.iloc[:, 1:5]\n",
    "y = dataset.iloc[:, -1]\n",
    "y"
   ]
  },
  {
   "cell_type": "code",
   "execution_count": 23,
   "id": "4474231a",
   "metadata": {
    "execution": {
     "iopub.execute_input": "2022-08-13T17:55:04.032257Z",
     "iopub.status.busy": "2022-08-13T17:55:04.031560Z",
     "iopub.status.idle": "2022-08-13T17:55:04.038011Z",
     "shell.execute_reply": "2022-08-13T17:55:04.037119Z"
    },
    "id": "LY_FHxsw45NO",
    "papermill": {
     "duration": 0.025997,
     "end_time": "2022-08-13T17:55:04.040541",
     "exception": false,
     "start_time": "2022-08-13T17:55:04.014544",
     "status": "completed"
    },
    "tags": []
   },
   "outputs": [],
   "source": [
    "from sklearn.model_selection import train_test_split\n",
    "X_train, X_test, y_train, y_test = train_test_split(X, y, random_state= 42, train_size= 0.7)"
   ]
  },
  {
   "cell_type": "code",
   "execution_count": 24,
   "id": "8a24ffc0",
   "metadata": {
    "execution": {
     "iopub.execute_input": "2022-08-13T17:55:04.074853Z",
     "iopub.status.busy": "2022-08-13T17:55:04.074158Z",
     "iopub.status.idle": "2022-08-13T17:55:04.095430Z",
     "shell.execute_reply": "2022-08-13T17:55:04.094521Z"
    },
    "id": "QY-eHvxu3_kp",
    "outputId": "4b86a47a-a953-47cb-ae3f-7f2d97114cf7",
    "papermill": {
     "duration": 0.041493,
     "end_time": "2022-08-13T17:55:04.097993",
     "exception": false,
     "start_time": "2022-08-13T17:55:04.056500",
     "status": "completed"
    },
    "tags": []
   },
   "outputs": [
    {
     "data": {
      "text/plain": [
       "GaussianNB()"
      ]
     },
     "execution_count": 24,
     "metadata": {},
     "output_type": "execute_result"
    }
   ],
   "source": [
    "from sklearn.linear_model import LogisticRegression\n",
    "from sklearn.neighbors import KNeighborsClassifier\n",
    "from sklearn.naive_bayes import GaussianNB\n",
    "\n",
    "lr = LogisticRegression(solver= \"liblinear\")\n",
    "knn = KNeighborsClassifier(n_neighbors= 5)\n",
    "gnb = GaussianNB()\n",
    "\n",
    "lr.fit(X_train, y_train)\n",
    "knn.fit(X_train, y_train)\n",
    "gnb.fit(X_train, y_train)"
   ]
  },
  {
   "cell_type": "markdown",
   "id": "17c1194e",
   "metadata": {
    "id": "NWtg-ctw6vy5",
    "papermill": {
     "duration": 0.015141,
     "end_time": "2022-08-13T17:55:04.129436",
     "exception": false,
     "start_time": "2022-08-13T17:55:04.114295",
     "status": "completed"
    },
    "tags": []
   },
   "source": [
    "### **Check the Accuracy for each model (without PCA).**"
   ]
  },
  {
   "cell_type": "markdown",
   "id": "0841885f",
   "metadata": {
    "id": "640m1pwM67Q3",
    "papermill": {
     "duration": 0.015505,
     "end_time": "2022-08-13T17:55:04.160587",
     "exception": false,
     "start_time": "2022-08-13T17:55:04.145082",
     "status": "completed"
    },
    "tags": []
   },
   "source": [
    "**Logistic Regression**"
   ]
  },
  {
   "cell_type": "code",
   "execution_count": 25,
   "id": "16cfa5db",
   "metadata": {
    "execution": {
     "iopub.execute_input": "2022-08-13T17:55:04.199914Z",
     "iopub.status.busy": "2022-08-13T17:55:04.198645Z",
     "iopub.status.idle": "2022-08-13T17:55:04.212019Z",
     "shell.execute_reply": "2022-08-13T17:55:04.210543Z"
    },
    "id": "s2tm2ALp597R",
    "outputId": "d6c9767b-9609-403e-b8a2-91f0102e7356",
    "papermill": {
     "duration": 0.03536,
     "end_time": "2022-08-13T17:55:04.216070",
     "exception": false,
     "start_time": "2022-08-13T17:55:04.180710",
     "status": "completed"
    },
    "tags": []
   },
   "outputs": [
    {
     "name": "stdout",
     "output_type": "stream",
     "text": [
      "Confusion matrix: \n",
      " [[15  0  0  0  0]\n",
      " [ 1  9  0  0  0]\n",
      " [ 0  2 13  0  0]\n",
      " [ 1  0  1  3  0]\n",
      " [ 0  0  0  0 15]]\n",
      "Accuracy score: 0.9166666666666666\n"
     ]
    }
   ],
   "source": [
    "from sklearn.metrics import confusion_matrix\n",
    "y_pred = lr.predict(X_test)\n",
    "matrix = confusion_matrix(y_test,y_pred)\n",
    "print(\"Confusion matrix: \\n\",matrix)\n",
    "\n",
    "from sklearn.metrics import accuracy_score\n",
    "print(\"Accuracy score:\", accuracy_score(y_test,y_pred))"
   ]
  },
  {
   "cell_type": "markdown",
   "id": "ade67cba",
   "metadata": {
    "id": "Gzm1Izw76_f6",
    "papermill": {
     "duration": 0.015975,
     "end_time": "2022-08-13T17:55:04.248510",
     "exception": false,
     "start_time": "2022-08-13T17:55:04.232535",
     "status": "completed"
    },
    "tags": []
   },
   "source": [
    "**K Nearest Neighbors**"
   ]
  },
  {
   "cell_type": "code",
   "execution_count": 26,
   "id": "f14b8642",
   "metadata": {
    "execution": {
     "iopub.execute_input": "2022-08-13T17:55:04.283332Z",
     "iopub.status.busy": "2022-08-13T17:55:04.282409Z",
     "iopub.status.idle": "2022-08-13T17:55:04.295314Z",
     "shell.execute_reply": "2022-08-13T17:55:04.294460Z"
    },
    "id": "MKYpGqK26hzf",
    "outputId": "7a3e101c-2142-41ea-b3a3-4aa7418250a4",
    "papermill": {
     "duration": 0.03349,
     "end_time": "2022-08-13T17:55:04.298141",
     "exception": false,
     "start_time": "2022-08-13T17:55:04.264651",
     "status": "completed"
    },
    "tags": []
   },
   "outputs": [
    {
     "name": "stdout",
     "output_type": "stream",
     "text": [
      "Confusion matrix: \n",
      " [[15  0  0  0  0]\n",
      " [ 1  9  0  0  0]\n",
      " [ 0  0 15  0  0]\n",
      " [ 0  0  0  5  0]\n",
      " [ 0  0  2  0 13]]\n",
      "Accuracy score: 0.95\n"
     ]
    }
   ],
   "source": [
    "y_pred = knn.predict(X_test)\n",
    "matrix = confusion_matrix(y_test,y_pred)\n",
    "print(\"Confusion matrix: \\n\",matrix)\n",
    "\n",
    "from sklearn.metrics import accuracy_score\n",
    "print(\"Accuracy score:\", accuracy_score(y_test,y_pred))"
   ]
  },
  {
   "cell_type": "markdown",
   "id": "afe1a792",
   "metadata": {
    "id": "0SBMJ5us7Cdx",
    "papermill": {
     "duration": 0.01552,
     "end_time": "2022-08-13T17:55:04.329989",
     "exception": false,
     "start_time": "2022-08-13T17:55:04.314469",
     "status": "completed"
    },
    "tags": []
   },
   "source": [
    "**Gaussian NB**"
   ]
  },
  {
   "cell_type": "code",
   "execution_count": 27,
   "id": "538e4b3e",
   "metadata": {
    "execution": {
     "iopub.execute_input": "2022-08-13T17:55:04.365141Z",
     "iopub.status.busy": "2022-08-13T17:55:04.364285Z",
     "iopub.status.idle": "2022-08-13T17:55:04.375482Z",
     "shell.execute_reply": "2022-08-13T17:55:04.374027Z"
    },
    "id": "G8kzxd8k6nbT",
    "outputId": "ad16b94d-4cfc-4a53-b616-7937b91a8942",
    "papermill": {
     "duration": 0.031991,
     "end_time": "2022-08-13T17:55:04.378788",
     "exception": false,
     "start_time": "2022-08-13T17:55:04.346797",
     "status": "completed"
    },
    "tags": []
   },
   "outputs": [
    {
     "name": "stdout",
     "output_type": "stream",
     "text": [
      "Confusion matrix: \n",
      " [[15  0  0  0  0]\n",
      " [ 1  9  0  0  0]\n",
      " [ 0  0 15  0  0]\n",
      " [ 0  0  0  5  0]\n",
      " [ 0  0  0  0 15]]\n",
      "Accuracy score: 0.9833333333333333\n"
     ]
    }
   ],
   "source": [
    "y_pred = gnb.predict(X_test)\n",
    "matrix = confusion_matrix(y_test,y_pred)\n",
    "print(\"Confusion matrix: \\n\",matrix)\n",
    "\n",
    "from sklearn.metrics import accuracy_score\n",
    "print(\"Accuracy score:\", accuracy_score(y_test,y_pred))"
   ]
  },
  {
   "cell_type": "markdown",
   "id": "6ec36bc6",
   "metadata": {
    "id": "vkAuG2lX7Hwl",
    "papermill": {
     "duration": 0.026121,
     "end_time": "2022-08-13T17:55:04.422600",
     "exception": false,
     "start_time": "2022-08-13T17:55:04.396479",
     "status": "completed"
    },
    "tags": []
   },
   "source": [
    "## **Applying PCA.**\n",
    "\n",
    "Using PCA we can reduce the dimensionality of the dataset and thus have an even better accuracy.\n",
    "\n",
    "However, using PCA in this dataset is not the right approach as there aren't many features to reduce. But we will apply it just in case.\n",
    "\n",
    "\n",
    "---\n",
    "\n",
    "### **Hypothesis:** There is a high chance of overfitting or some kind of weird results if we apply PCA in this dataset."
   ]
  },
  {
   "cell_type": "code",
   "execution_count": 28,
   "id": "da7a1b90",
   "metadata": {
    "execution": {
     "iopub.execute_input": "2022-08-13T17:55:04.456766Z",
     "iopub.status.busy": "2022-08-13T17:55:04.455660Z",
     "iopub.status.idle": "2022-08-13T17:55:04.463483Z",
     "shell.execute_reply": "2022-08-13T17:55:04.462096Z"
    },
    "id": "AYfMqtIY7Eqy",
    "papermill": {
     "duration": 0.027313,
     "end_time": "2022-08-13T17:55:04.465872",
     "exception": false,
     "start_time": "2022-08-13T17:55:04.438559",
     "status": "completed"
    },
    "tags": []
   },
   "outputs": [],
   "source": [
    "from sklearn.decomposition import PCA\n",
    "from sklearn.model_selection import StratifiedShuffleSplit\n",
    "from sklearn.linear_model import LogisticRegression\n",
    "from sklearn.neighbors import KNeighborsClassifier\n",
    "from sklearn.naive_bayes import GaussianNB\n",
    "\n",
    "lr = LogisticRegression(solver= \"liblinear\")\n",
    "knn = KNeighborsClassifier(n_neighbors= 5)\n",
    "gnb = GaussianNB()\n",
    "\n",
    "\n",
    "# def store_score(model, X_train, X_test, y_test, y_train):\n",
    "#   accuracy_list = list()\n",
    "#   model.fit(X_train, y_train)\n",
    "#   y_pred = model.predict(X_test)\n",
    "#   accuracy_list.append(accuracy_score(y_test,y_pred))\n",
    "\n",
    "#   return accuracy_list\n",
    "\n",
    "# def plotAcc(accuracy_list):\n",
    "#   ax = sns.lineplot(data= accuracy_list)\n",
    "#   ax.set(xlabel='Number of Dimensions',\n",
    "#        ylabel='Average Accuracy',\n",
    "#        title= f\"Accuracy of the model after PCA\")\n",
    "#   ax.grid(True)\n",
    "\n"
   ]
  },
  {
   "cell_type": "markdown",
   "id": "d3e9b928",
   "metadata": {
    "id": "nWN3JqwFDopZ",
    "papermill": {
     "duration": 0.015884,
     "end_time": "2022-08-13T17:55:04.498921",
     "exception": false,
     "start_time": "2022-08-13T17:55:04.483037",
     "status": "completed"
    },
    "tags": []
   },
   "source": [
    "**For Logistic Regression:**"
   ]
  },
  {
   "cell_type": "code",
   "execution_count": 29,
   "id": "363b5153",
   "metadata": {
    "execution": {
     "iopub.execute_input": "2022-08-13T17:55:04.532628Z",
     "iopub.status.busy": "2022-08-13T17:55:04.532217Z",
     "iopub.status.idle": "2022-08-13T17:55:04.561932Z",
     "shell.execute_reply": "2022-08-13T17:55:04.560007Z"
    },
    "id": "6wh-OHmXDoEP",
    "outputId": "5198f458-5a08-482d-baee-2f326ef28271",
    "papermill": {
     "duration": 0.050035,
     "end_time": "2022-08-13T17:55:04.564846",
     "exception": false,
     "start_time": "2022-08-13T17:55:04.514811",
     "status": "completed"
    },
    "tags": []
   },
   "outputs": [
    {
     "name": "stdout",
     "output_type": "stream",
     "text": [
      "Confusion matrix: \n",
      " [[ 8  0  7  0  0]\n",
      " [ 1  9  0  0  0]\n",
      " [ 3  0 12  0  0]\n",
      " [ 0  0  1  4  0]\n",
      " [ 0  0  0  0 15]]\n",
      "Accuracy score: 0.8\n"
     ]
    }
   ],
   "source": [
    "pca = PCA(n_components= 2)\n",
    "X_train = pca.fit_transform(X_train)\n",
    "X_test = pca.transform(X_test)\n",
    "\n",
    "lr.fit(X_train, y_train)\n",
    "y_pred = lr.predict(X_test)\n",
    "matrix = confusion_matrix(y_test,y_pred)\n",
    "print(\"Confusion matrix: \\n\",matrix)\n",
    "\n",
    "from sklearn.metrics import accuracy_score\n",
    "print(\"Accuracy score:\", accuracy_score(y_test,y_pred))"
   ]
  },
  {
   "cell_type": "markdown",
   "id": "2c858d75",
   "metadata": {
    "id": "iW205Bv_ES0M",
    "papermill": {
     "duration": 0.01564,
     "end_time": "2022-08-13T17:55:04.597156",
     "exception": false,
     "start_time": "2022-08-13T17:55:04.581516",
     "status": "completed"
    },
    "tags": []
   },
   "source": [
    "**For KNN:**"
   ]
  },
  {
   "cell_type": "code",
   "execution_count": 30,
   "id": "eb6559fe",
   "metadata": {
    "execution": {
     "iopub.execute_input": "2022-08-13T17:55:04.631537Z",
     "iopub.status.busy": "2022-08-13T17:55:04.630828Z",
     "iopub.status.idle": "2022-08-13T17:55:04.644320Z",
     "shell.execute_reply": "2022-08-13T17:55:04.642523Z"
    },
    "id": "GoadC4a7EQxf",
    "outputId": "7959c415-25f4-4f37-b93d-c71c6dc468b0",
    "papermill": {
     "duration": 0.034029,
     "end_time": "2022-08-13T17:55:04.647197",
     "exception": false,
     "start_time": "2022-08-13T17:55:04.613168",
     "status": "completed"
    },
    "tags": []
   },
   "outputs": [
    {
     "name": "stdout",
     "output_type": "stream",
     "text": [
      "Confusion matrix: \n",
      " [[11  0  4  0  0]\n",
      " [ 0  9  1  0  0]\n",
      " [ 1  0 14  0  0]\n",
      " [ 0  0  0  5  0]\n",
      " [ 2  0  0  0 13]]\n",
      "Accuracy score: 0.8666666666666667\n"
     ]
    }
   ],
   "source": [
    "pca = PCA(n_components= 2)\n",
    "X_train = pca.fit_transform(X_train)\n",
    "X_test = pca.transform(X_test)\n",
    "\n",
    "knn.fit(X_train, y_train)\n",
    "y_pred = knn.predict(X_test)\n",
    "matrix = confusion_matrix(y_test,y_pred)\n",
    "print(\"Confusion matrix: \\n\",matrix)\n",
    "\n",
    "from sklearn.metrics import accuracy_score\n",
    "print(\"Accuracy score:\", accuracy_score(y_test,y_pred))"
   ]
  },
  {
   "cell_type": "markdown",
   "id": "3130086e",
   "metadata": {
    "id": "QhvirsR5EYd0",
    "papermill": {
     "duration": 0.015671,
     "end_time": "2022-08-13T17:55:04.679351",
     "exception": false,
     "start_time": "2022-08-13T17:55:04.663680",
     "status": "completed"
    },
    "tags": []
   },
   "source": [
    "**For Gaussian NB:**"
   ]
  },
  {
   "cell_type": "code",
   "execution_count": 31,
   "id": "bb2aefd4",
   "metadata": {
    "execution": {
     "iopub.execute_input": "2022-08-13T17:55:04.713971Z",
     "iopub.status.busy": "2022-08-13T17:55:04.713551Z",
     "iopub.status.idle": "2022-08-13T17:55:04.727062Z",
     "shell.execute_reply": "2022-08-13T17:55:04.725408Z"
    },
    "id": "jxw314JLEbNg",
    "outputId": "23a70c8c-f6b6-4ef2-88bd-6b609be67a3e",
    "papermill": {
     "duration": 0.034081,
     "end_time": "2022-08-13T17:55:04.729410",
     "exception": false,
     "start_time": "2022-08-13T17:55:04.695329",
     "status": "completed"
    },
    "tags": []
   },
   "outputs": [
    {
     "name": "stdout",
     "output_type": "stream",
     "text": [
      "Confusion matrix: \n",
      " [[15  0  0  0  0]\n",
      " [ 1  9  0  0  0]\n",
      " [ 6  0  9  0  0]\n",
      " [ 0  0  0  5  0]\n",
      " [ 1  0  0  0 14]]\n",
      "Accuracy score: 0.8666666666666667\n"
     ]
    }
   ],
   "source": [
    "pca = PCA(n_components= 2)\n",
    "X_train = pca.fit_transform(X_train)\n",
    "X_test = pca.transform(X_test)\n",
    "\n",
    "gnb.fit(X_train, y_train)\n",
    "y_pred = gnb.predict(X_test)\n",
    "matrix = confusion_matrix(y_test,y_pred)\n",
    "print(\"Confusion matrix: \\n\",matrix)\n",
    "\n",
    "from sklearn.metrics import accuracy_score\n",
    "print(\"Accuracy score:\", accuracy_score(y_test,y_pred))"
   ]
  },
  {
   "cell_type": "markdown",
   "id": "ec3d2a2a",
   "metadata": {
    "id": "glMH3jICLFXa",
    "papermill": {
     "duration": 0.015979,
     "end_time": "2022-08-13T17:55:04.761463",
     "exception": false,
     "start_time": "2022-08-13T17:55:04.745484",
     "status": "completed"
    },
    "tags": []
   },
   "source": [
    "\n",
    "\n",
    "```\n",
    "# Here as we can see...our hypothesis was indeed correct.\n",
    "Applying PCA on a smaller dataset and that to with less number of features yields us less accuracy due to loss of data.\n",
    "```\n",
    "\n"
   ]
  }
 ],
 "metadata": {
  "kernelspec": {
   "display_name": "Python 3",
   "language": "python",
   "name": "python3"
  },
  "language_info": {
   "codemirror_mode": {
    "name": "ipython",
    "version": 3
   },
   "file_extension": ".py",
   "mimetype": "text/x-python",
   "name": "python",
   "nbconvert_exporter": "python",
   "pygments_lexer": "ipython3",
   "version": "3.7.12"
  },
  "papermill": {
   "default_parameters": {},
   "duration": 15.621243,
   "end_time": "2022-08-13T17:55:05.601576",
   "environment_variables": {},
   "exception": null,
   "input_path": "__notebook__.ipynb",
   "output_path": "__notebook__.ipynb",
   "parameters": {},
   "start_time": "2022-08-13T17:54:49.980333",
   "version": "2.3.4"
  }
 },
 "nbformat": 4,
 "nbformat_minor": 5
}
